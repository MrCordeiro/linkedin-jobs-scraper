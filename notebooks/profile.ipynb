{
 "cells": [
  {
   "attachments": {},
   "cell_type": "markdown",
   "metadata": {},
   "source": [
    "# Sign In with LinkedIn API\n",
    "\n",
    "Most APIs from Linkedin use a 3-legged authorization code, which means that it's not enough for the app to authenticate with the server, the member whose data is being collected has to give their authorization as well.\n",
    "\n",
    "Client credential flow, commonly referred to as \"OAuth two-legged\", is lock out by default. With this flow the app would be able to authorize with LinkedIn's API directly - outside the context of any specific user. Permission to use this flow is only grantedf by direct request.\n",
    "\n",
    "With the \"Sign In with LinkedIn\" API we can get access to the user's profile information."
   ]
  },
  {
   "attachments": {},
   "cell_type": "markdown",
   "metadata": {},
   "source": [
    "1. Go to https://www.linkedin.com/developers/apps and create an app\n",
    "2. Add the authentication keys (Client ID + Client Secret) to a `.env` file as  `CLIENT_ID` and `CLIENT_SECRET` respectively\n",
    "3. Add a redirect URL\n",
    "4. Assign the redirect URL you've added to your `.env` file as `REDIRECT_URL`"
   ]
  },
  {
   "cell_type": "code",
   "execution_count": null,
   "metadata": {},
   "outputs": [],
   "source": [
    "import os\n",
    "import string\n",
    "import random\n",
    "from pathlib import Path\n",
    "\n",
    "import requests\n",
    "from dotenv import load_dotenv\n",
    "\n",
    "load_dotenv()\n",
    "\n",
    "CLIENT_ID = os.getenv(\"CLIENT_ID\")\n",
    "CLIENT_SECRET = os.getenv(\"CLIENT_SECRET\")\n",
    "REDIRECT_URL = os.getenv(\"REDIRECT_URL\")\n",
    "\n",
    "AUTH_URL = \"https://www.linkedin.com/oauth/v2/authorization\"\n",
    "ACCESS_TOKEN_URL = \"https://www.linkedin.com/oauth/v2/accessToken\"\n",
    "ME_URL = \"https://www.linkedin.com/oauth/v2/me\""
   ]
  },
  {
   "cell_type": "code",
   "execution_count": null,
   "metadata": {},
   "outputs": [],
   "source": [
    "def _generate_unique_string() -> str:\n",
    "    vocab = string.ascii_letters\n",
    "    string_length = 24\n",
    "    return ''.join(random.choice(vocab) for _ in range(string_length))\n",
    "\n",
    "def get_auth_link() -> None:\n",
    "    scope = \"r_liteprofile,r_emailaddress\"\n",
    "    param = {\n",
    "        \"response_type\": \"code\",\n",
    "        \"client_id\": CLIENT_ID,\n",
    "        \"redirect_uri\": REDIRECT_URL,\n",
    "        \"scope\": scope,\n",
    "        # state is a unique string value of your choice that is hard to guess.\n",
    "        # Used to prevent CSRF\n",
    "        \"state\": _generate_unique_string()\n",
    "    }\n",
    "    response = requests.get(url=AUTH_URL, params=param)\n",
    "    return_url = response.url\n",
    "    print(\"Please click the URL and authenticate in order to get your auth code\")\n",
    "    print(\"\")\n",
    "    print(return_url)\n",
    "\n",
    "\n",
    "get_auth_link()\n"
   ]
  },
  {
   "attachments": {},
   "cell_type": "markdown",
   "metadata": {},
   "source": [
    "After giving permissions, your browser will open the redirect URL you've provided. The authentication token is added as a URL param of that URL. Go to your browser address bar, copy is and add it to your `.env` file as `TOKEN`."
   ]
  },
  {
   "cell_type": "code",
   "execution_count": null,
   "metadata": {},
   "outputs": [],
   "source": [
    "load_dotenv()\n",
    "\n",
    "AUTH_CODE = os.getenv(\"AUTH_CODE\")"
   ]
  },
  {
   "attachments": {},
   "cell_type": "markdown",
   "metadata": {},
   "source": [
    "The next step is to get an access token for your application using the authorization code from the previous step."
   ]
  },
  {
   "cell_type": "code",
   "execution_count": null,
   "metadata": {},
   "outputs": [],
   "source": [
    "headers = {\n",
    "    \"Content-Type\": \"application/x-www-form-urlencoded\",\n",
    "}\n",
    "data = {\n",
    "    \"grant_type\": \"authorization_code\",\n",
    "    \"code\": AUTH_CODE,\n",
    "    \"client_id\": CLIENT_ID,\n",
    "    \"client_secret\": CLIENT_SECRET,\n",
    "    \"redirect_uri\": REDIRECT_URL,\n",
    "}\n",
    "response = requests.post(ACCESS_TOKEN_URL, data=data)\n",
    "data = response.json()\n",
    "access_token = data.get(\"access_token\")\n",
    "\n",
    "if access_token:\n",
    "    env_path = Path().cwd().parent / \".env\"\n",
    "    with open(env_path, \"a\") as file:\n",
    "        file.write(f\"ACCESS_TOKEN = {access_token}\")\n"
   ]
  },
  {
   "cell_type": "code",
   "execution_count": null,
   "metadata": {},
   "outputs": [],
   "source": [
    "load_dotenv()\n",
    "\n",
    "ACCESS_TOKEN = os.getenv(\"ACCESS_TOKEN\")"
   ]
  },
  {
   "attachments": {},
   "cell_type": "markdown",
   "metadata": {},
   "source": [
    "## Personal profile"
   ]
  },
  {
   "cell_type": "code",
   "execution_count": null,
   "metadata": {},
   "outputs": [],
   "source": [
    "import json\n",
    "\n",
    "params = {\"oauth2_access_token\": ACCESS_TOKEN}\n",
    "response = requests.get(\"https://api.linkedin.com/v2/me\", params=params)\n",
    "\n",
    "print(json.dumps(response.json(), indent=1))"
   ]
  },
  {
   "attachments": {},
   "cell_type": "markdown",
   "metadata": {},
   "source": [
    "### Displaying specific fields"
   ]
  },
  {
   "cell_type": "code",
   "execution_count": null,
   "metadata": {},
   "outputs": [],
   "source": [
    "params = {\n",
    "    \"oauth2_access_token\": ACCESS_TOKEN,\n",
    "    \"fields\": [\"localizedFirstName,localizedLastName,id\"],\n",
    "}\n",
    "response = requests.get(\"https://api.linkedin.com/v2/me\", params=params)\n",
    "\n",
    "print(json.dumps(response.json(), indent=1))"
   ]
  },
  {
   "cell_type": "code",
   "execution_count": null,
   "metadata": {},
   "outputs": [],
   "source": [
    "params = {\n",
    "    \"oauth2_access_token\": ACCESS_TOKEN,\n",
    "    \"fields\": [\"lastName:(preferredLocale:(country,language))\"],\n",
    "}\n",
    "response = requests.get(\"https://api.linkedin.com/v2/me\", params=params)\n",
    "\n",
    "print(json.dumps(response.json(), indent=1))"
   ]
  },
  {
   "cell_type": "code",
   "execution_count": null,
   "metadata": {},
   "outputs": [],
   "source": []
  }
 ],
 "metadata": {
  "kernelspec": {
   "display_name": ".venv",
   "language": "python",
   "name": "python3"
  },
  "language_info": {
   "codemirror_mode": {
    "name": "ipython",
    "version": 3
   },
   "file_extension": ".py",
   "mimetype": "text/x-python",
   "name": "python",
   "nbconvert_exporter": "python",
   "pygments_lexer": "ipython3",
   "version": "3.11.1"
  },
  "orig_nbformat": 4
 },
 "nbformat": 4,
 "nbformat_minor": 2
}
