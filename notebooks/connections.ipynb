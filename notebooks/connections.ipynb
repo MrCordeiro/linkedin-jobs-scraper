{
 "cells": [
  {
   "attachments": {},
   "cell_type": "markdown",
   "metadata": {},
   "source": [
    "# LinkedIn Connections\n",
    "\n",
    "We can download your profile data and read in connections data as a CSV file\n",
    "Go download your LinkedIn data here: https://www.linkedin.com/mypreferences/d/download-my-data and then add it to the `data` folder.\n"
   ]
  },
  {
   "cell_type": "code",
   "execution_count": null,
   "metadata": {},
   "outputs": [],
   "source": [
    "from pathlib import Path\n",
    "\n",
    "import pandas as pd\n",
    "import plotly.express as px\n",
    "\n",
    "\n",
    "CSV_FILE = Path.cwd().parent / \"data\" / \"connections.csv\""
   ]
  },
  {
   "cell_type": "code",
   "execution_count": null,
   "metadata": {},
   "outputs": [],
   "source": [
    "# Read the CSV file into a pandas DataFrame. Valid data starts at row 4\n",
    "connections = pd.read_csv(CSV_FILE, skiprows=3)"
   ]
  },
  {
   "cell_type": "code",
   "execution_count": null,
   "metadata": {},
   "outputs": [],
   "source": [
    "# Connections per company\n",
    "_by_company = connections.groupby(\"Company\").size().sort_values(ascending=False).reset_index(name=\"Count\")\n",
    "_by_company[\"Percentage\"] = _by_company[\"Count\"] / _by_company[\"Count\"].sum() * 100\n",
    "\n",
    "_by_company.head(10)"
   ]
  },
  {
   "cell_type": "code",
   "execution_count": null,
   "metadata": {},
   "outputs": [],
   "source": [
    "# Connections per position.\n",
    "_by_pos = connections.groupby(\"Position\").size().sort_values(ascending=False).reset_index(name=\"Count\")\n",
    "_by_pos[\"Percentage\"] = _by_pos[\"Count\"] / _by_pos[\"Count\"].sum() * 100\n",
    "\n",
    "_by_pos.head(10)"
   ]
  },
  {
   "cell_type": "code",
   "execution_count": null,
   "metadata": {},
   "outputs": [],
   "source": [
    "# Filter by position which contains \"ceo\"\n",
    "n_ceos = _by_pos[_by_pos[\"Position\"].str.contains(\"CEO\", case=False)][\"Count\"].sum()\n",
    "print(f\"There are {n_ceos} people who are CEOs.\")"
   ]
  },
  {
   "cell_type": "code",
   "execution_count": null,
   "metadata": {},
   "outputs": [],
   "source": [
    "_no_nan = connections.dropna(subset=[\"Position\"]).fillna(\"Unknown\")\n",
    "fig = px.treemap(_no_nan, path=[\"Company\", \"Position\"], width=1200, height=1200)\n",
    "fig.show()"
   ]
  }
 ],
 "metadata": {
  "kernelspec": {
   "display_name": ".venv",
   "language": "python",
   "name": "python3"
  },
  "language_info": {
   "codemirror_mode": {
    "name": "ipython",
    "version": 3
   },
   "file_extension": ".py",
   "mimetype": "text/x-python",
   "name": "python",
   "nbconvert_exporter": "python",
   "pygments_lexer": "ipython3",
   "version": "3.11.1"
  },
  "orig_nbformat": 4
 },
 "nbformat": 4,
 "nbformat_minor": 2
}
